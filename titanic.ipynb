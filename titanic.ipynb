{
 "cells": [
  {
   "cell_type": "markdown",
   "metadata": {},
   "source": [
    "HELLO EVERYONE!!\n"
   ]
  },
  {
   "cell_type": "markdown",
   "metadata": {},
   "source": [
    "Here is my first try on VS code with my experience in Data Science\n",
    "It maybe less but must be better"
   ]
  },
  {
   "cell_type": "code",
   "execution_count": 2,
   "metadata": {},
   "outputs": [],
   "source": [
    "import numpy as np\n",
    "import pandas as pd\n",
    "import matplotlib.pyplot as plt\n",
    "import seaborn as sns"
   ]
  },
  {
   "cell_type": "markdown",
   "metadata": {},
   "source": [
    "Get the datas"
   ]
  },
  {
   "cell_type": "code",
   "execution_count": 3,
   "metadata": {},
   "outputs": [],
   "source": [
    "#sns.get_dataset_names() #if you want to know what we can get"
   ]
  },
  {
   "cell_type": "code",
   "execution_count": 26,
   "metadata": {},
   "outputs": [],
   "source": [
    "df = sns.load_dataset('titanic')"
   ]
  },
  {
   "cell_type": "markdown",
   "metadata": {},
   "source": [
    "Clean useless data for an accurate output\n",
    "This step might take 50% of your time"
   ]
  },
  {
   "cell_type": "markdown",
   "metadata": {},
   "source": [
    "First, find data missing and how to fix them"
   ]
  },
  {
   "cell_type": "code",
   "execution_count": 27,
   "metadata": {},
   "outputs": [
    {
     "data": {
      "text/plain": [
       "survived       False\n",
       "pclass         False\n",
       "sex            False\n",
       "age             True\n",
       "sibsp          False\n",
       "parch          False\n",
       "fare           False\n",
       "embarked        True\n",
       "class          False\n",
       "who            False\n",
       "adult_male     False\n",
       "deck            True\n",
       "embark_town     True\n",
       "alive          False\n",
       "alone          False\n",
       "dtype: bool"
      ]
     },
     "execution_count": 27,
     "metadata": {},
     "output_type": "execute_result"
    }
   ],
   "source": [
    "df.isnull().any()"
   ]
  },
  {
   "cell_type": "code",
   "execution_count": 6,
   "metadata": {},
   "outputs": [
    {
     "data": {
      "text/plain": [
       "survived         0\n",
       "pclass           0\n",
       "sex              0\n",
       "age            177\n",
       "sibsp            0\n",
       "parch            0\n",
       "fare             0\n",
       "embarked         2\n",
       "class            0\n",
       "who              0\n",
       "adult_male       0\n",
       "deck           688\n",
       "embark_town      2\n",
       "alive            0\n",
       "alone            0\n",
       "dtype: int64"
      ]
     },
     "execution_count": 6,
     "metadata": {},
     "output_type": "execute_result"
    }
   ],
   "source": [
    "df.isnull().sum()"
   ]
  },
  {
   "cell_type": "markdown",
   "metadata": {},
   "source": [
    "Then, fix it"
   ]
  },
  {
   "cell_type": "code",
   "execution_count": 29,
   "metadata": {},
   "outputs": [],
   "source": [
    "# df['age'] = df['age'].fillna(df['age'].mean())    # แทนที่ Nan ใน age ด้วย Mean\n",
    "#df.dropna(subset = ['age'], inplace = True)         # Delete Nan Row\n",
    "#df.dtypes  #check type of Variable"
   ]
  },
  {
   "cell_type": "code",
   "execution_count": 8,
   "metadata": {},
   "outputs": [
    {
     "name": "stdout",
     "output_type": "stream",
     "text": [
      "  survived pclass     sex   age     fare  class    who alive\n",
      "0        0      0    male  22.0   7.2500  Third    man    no\n",
      "1        1      1  female  38.0  71.2833  First  woman   yes\n",
      "2        1      1  female  26.0   7.9250  Third  woman   yes\n",
      "3        1      1  female  35.0  53.1000  First  woman   yes\n",
      "4        0      0    male  35.0   8.0500  Third    man    no\n",
      "{'male', 'female'}\n",
      "   survived  pclass   sex   age  sibsp  parch  fare embarked  class  who  \\\n",
      "0         0       3  male  22.0      1      0  7.25        S  Third  man   \n",
      "4         0       3  male  35.0      0      0  8.05        S  Third  man   \n",
      "\n",
      "   adult_male deck  embark_town alive  alone  \n",
      "0        True  NaN  Southampton    no  False  \n",
      "4        True  NaN  Southampton    no   True  \n",
      "0    Third\n",
      "4    Third\n",
      "6    First\n",
      "Name: class, dtype: category\n",
      "Categories (3, object): ['First', 'Second', 'Third']\n",
      "    survived  pclass   sex   age  sibsp  parch  fare embarked   class  who  \\\n",
      "21         1       2  male  34.0      0      0  13.0        S  Second  man   \n",
      "23         1       1  male  28.0      0      0  35.5        S   First  man   \n",
      "\n",
      "    adult_male deck  embark_town alive  alone  \n",
      "21        True    D  Southampton   yes   True  \n",
      "23        True    A  Southampton   yes   True  \n"
     ]
    }
   ],
   "source": [
    "df2 = df.drop(['parch','sibsp','embarked','adult_male','deck','embark_town','alone'], axis = 1) # Del no need row\n",
    "df2['survived'] = df2.astype('category') # change from Int64 into Category type\n",
    "df2['pclass'] = df2.astype('object') # change from Int64 into Object type\n",
    "print(df2.head())\n",
    "print(set(df['sex'])) # show option in 'sex'\n",
    "print(df[df['sex'] == 'male'][:2]) # show all data if 'sex = male\n",
    "print(df[df['sex'] == 'male']['class'][:3]) # show class if 'sex' = male\n",
    "print(df[(df['sex'] == 'male') & (df['alive'] == 'yes')][:2])"
   ]
  },
  {
   "cell_type": "code",
   "execution_count": 9,
   "metadata": {},
   "outputs": [
    {
     "name": "stdout",
     "output_type": "stream",
     "text": [
      "Index(['survived', 'pclass', 'sex', 'age', 'sibsp', 'parch', 'fare',\n",
      "       'embarked', 'class', 'who', 'adult_male', 'deck', 'embark_town',\n",
      "       'alive', 'alone'],\n",
      "      dtype='object')\n",
      "Index(['survived', 'class num', 'sex', 'age', 'sibsp', 'parch', 'fare',\n",
      "       'embarked', 'class', 'who', 'adult_male', 'deck', 'embark_town',\n",
      "       'alive', 'alone'],\n",
      "      dtype='object')\n"
     ]
    }
   ],
   "source": [
    "print(df.columns)\n",
    "dfc = df.rename(columns = {'pclass':'class num'}) # change column name\n",
    "print(dfc.columns)"
   ]
  },
  {
   "cell_type": "markdown",
   "metadata": {},
   "source": [
    "Use pivot table to show main target information"
   ]
  },
  {
   "cell_type": "code",
   "execution_count": 10,
   "metadata": {},
   "outputs": [
    {
     "data": {
      "text/html": [
       "<div>\n",
       "<style scoped>\n",
       "    .dataframe tbody tr th:only-of-type {\n",
       "        vertical-align: middle;\n",
       "    }\n",
       "\n",
       "    .dataframe tbody tr th {\n",
       "        vertical-align: top;\n",
       "    }\n",
       "\n",
       "    .dataframe thead tr th {\n",
       "        text-align: left;\n",
       "    }\n",
       "\n",
       "    .dataframe thead tr:last-of-type th {\n",
       "        text-align: right;\n",
       "    }\n",
       "</style>\n",
       "<table border=\"1\" class=\"dataframe\">\n",
       "  <thead>\n",
       "    <tr>\n",
       "      <th></th>\n",
       "      <th colspan=\"3\" halign=\"left\">count</th>\n",
       "    </tr>\n",
       "    <tr>\n",
       "      <th></th>\n",
       "      <th colspan=\"3\" halign=\"left\">class</th>\n",
       "    </tr>\n",
       "    <tr>\n",
       "      <th>alive</th>\n",
       "      <th>no</th>\n",
       "      <th>yes</th>\n",
       "      <th>All</th>\n",
       "    </tr>\n",
       "    <tr>\n",
       "      <th>who</th>\n",
       "      <th></th>\n",
       "      <th></th>\n",
       "      <th></th>\n",
       "    </tr>\n",
       "  </thead>\n",
       "  <tbody>\n",
       "    <tr>\n",
       "      <th>child</th>\n",
       "      <td>34</td>\n",
       "      <td>49</td>\n",
       "      <td>83</td>\n",
       "    </tr>\n",
       "    <tr>\n",
       "      <th>man</th>\n",
       "      <td>341</td>\n",
       "      <td>72</td>\n",
       "      <td>413</td>\n",
       "    </tr>\n",
       "    <tr>\n",
       "      <th>woman</th>\n",
       "      <td>49</td>\n",
       "      <td>169</td>\n",
       "      <td>218</td>\n",
       "    </tr>\n",
       "    <tr>\n",
       "      <th>All</th>\n",
       "      <td>424</td>\n",
       "      <td>290</td>\n",
       "      <td>714</td>\n",
       "    </tr>\n",
       "  </tbody>\n",
       "</table>\n",
       "</div>"
      ],
      "text/plain": [
       "      count          \n",
       "      class          \n",
       "alive    no  yes  All\n",
       "who                  \n",
       "child    34   49   83\n",
       "man     341   72  413\n",
       "woman    49  169  218\n",
       "All     424  290  714"
      ]
     },
     "execution_count": 10,
     "metadata": {},
     "output_type": "execute_result"
    }
   ],
   "source": [
    "pvt = df2.pivot_table(index=['who'], columns=['alive'], values=['class'], aggfunc=['count'], margins=True)\n",
    "#pvt = df2.pivot_table(index=['who'], columns=['alive'], values=['class'], aggfunc=['count'])\n",
    "pvt"
   ]
  },
  {
   "cell_type": "code",
   "execution_count": 11,
   "metadata": {},
   "outputs": [
    {
     "data": {
      "text/plain": [
       "<AxesSubplot:xlabel='who'>"
      ]
     },
     "execution_count": 11,
     "metadata": {},
     "output_type": "execute_result"
    },
    {
     "data": {
      "image/png": "[encoded data removed]",
      "text/plain": [
       "<Figure size 432x288 with 1 Axes>"
      ]
     },
     "metadata": {
      "needs_background": "light"
     },
     "output_type": "display_data"
    }
   ],
   "source": [
    "pvt2 = df2.pivot_table(index=['who'], columns=['alive'], values=['class'], aggfunc=['count'])\n",
    "pvt2.plot.bar()"
   ]
  },
  {
   "cell_type": "code",
   "execution_count": 12,
   "metadata": {},
   "outputs": [
    {
     "data": {
      "text/html": [
       "<div>\n",
       "<style scoped>\n",
       "    .dataframe tbody tr th:only-of-type {\n",
       "        vertical-align: middle;\n",
       "    }\n",
       "\n",
       "    .dataframe tbody tr th {\n",
       "        vertical-align: top;\n",
       "    }\n",
       "\n",
       "    .dataframe thead tr th {\n",
       "        text-align: left;\n",
       "    }\n",
       "\n",
       "    .dataframe thead tr:last-of-type th {\n",
       "        text-align: right;\n",
       "    }\n",
       "</style>\n",
       "<table border=\"1\" class=\"dataframe\">\n",
       "  <thead>\n",
       "    <tr>\n",
       "      <th></th>\n",
       "      <th colspan=\"3\" halign=\"left\">fare</th>\n",
       "    </tr>\n",
       "    <tr>\n",
       "      <th>class</th>\n",
       "      <th>First</th>\n",
       "      <th>Second</th>\n",
       "      <th>Third</th>\n",
       "    </tr>\n",
       "    <tr>\n",
       "      <th>alive</th>\n",
       "      <th></th>\n",
       "      <th></th>\n",
       "      <th></th>\n",
       "    </tr>\n",
       "  </thead>\n",
       "  <tbody>\n",
       "    <tr>\n",
       "      <th>no</th>\n",
       "      <td>4310.8040</td>\n",
       "      <td>1867.9458</td>\n",
       "      <td>3558.6037</td>\n",
       "    </tr>\n",
       "    <tr>\n",
       "      <th>yes</th>\n",
       "      <td>12050.0503</td>\n",
       "      <td>1846.6334</td>\n",
       "      <td>1137.8458</td>\n",
       "    </tr>\n",
       "  </tbody>\n",
       "</table>\n",
       "</div>"
      ],
      "text/plain": [
       "             fare                      \n",
       "class       First     Second      Third\n",
       "alive                                  \n",
       "no      4310.8040  1867.9458  3558.6037\n",
       "yes    12050.0503  1846.6334  1137.8458"
      ]
     },
     "execution_count": 12,
     "metadata": {},
     "output_type": "execute_result"
    }
   ],
   "source": [
    "pvt3 = df2.pivot_table(index=['alive'],columns=['class'],values=['fare'],aggfunc='sum')\n",
    "pvt3"
   ]
  },
  {
   "cell_type": "code",
   "execution_count": 88,
   "metadata": {},
   "outputs": [
    {
     "name": "stdout",
     "output_type": "stream",
     "text": [
      "The sex of Passenger is \n",
      " sex\n",
      "female    314\n",
      "male      577\n",
      "Name: sex, dtype: int64\n",
      "       count                       \n",
      "         age alive class fare sibsp\n",
      "sex                                \n",
      "female   314   314   314  314   314\n",
      "male     577   577   577  577   577 \n",
      "\n",
      " alive\n",
      "no     549\n",
      "yes    342\n",
      "Name: sex, dtype: int64\n",
      "       count          \n",
      "       class          \n",
      "sex   female male  All\n",
      "alive                 \n",
      "no        81  468  549\n",
      "yes      233  109  342\n",
      "All      314  577  891\n"
     ]
    }
   ],
   "source": [
    "dfdc = df.drop(['parch','embarked','adult_male','deck','embark_town','alone','who','pclass','survived'], axis = 1) \n",
    "#print(dfdc.dtypes)\n",
    "#print(dfdc.isnull().any())\n",
    "dfdc['age'] = pd.to_numeric(df['age'],errors='coerce') # Change -- * / + into missing data ('Nan) \n",
    "dfdc['age'] = dfdc['age'].fillna(dfdc['age'].mean())\n",
    "# dfdc['age'] = dfdc.astype('int64')\n",
    "dfdc['age'].isnull().any()\n",
    "dfdc[dfdc['age'].isnull()]\n",
    "#print(dfdc.dtypes,'\\n')\n",
    "print('The sex of Passenger is','\\n',dfdc.groupby('sex')['sex'].count())\n",
    "print(dfdc.pivot_table(index=['sex'], aggfunc=['count']),'\\n')\n",
    "print('',dfdc.groupby('alive')['sex'].count())\n",
    "print(dfdc.pivot_table(index=['alive'],columns=['sex'],values=['class'], aggfunc=['count'],margins='True'))"
   ]
  },
  {
   "cell_type": "code",
   "execution_count": null,
   "metadata": {},
   "outputs": [],
   "source": []
  }
 ],
 "metadata": {
  "interpreter": {
   "hash": "42588fd11209419b7c81abe23e31a1d2101f60811b02170c268e57ebb57d5d9a"
  },
  "kernelspec": {
   "display_name": "Python 3.8.5 ('base')",
   "language": "python",
   "name": "python3"
  },
  "language_info": {
   "codemirror_mode": {
    "name": "ipython",
    "version": 3
   },
   "file_extension": ".py",
   "mimetype": "text/x-python",
   "name": "python",
   "nbconvert_exporter": "python",
   "pygments_lexer": "ipython3",
   "version": "3.8.5"
  },
  "orig_nbformat": 4
 },
 "nbformat": 4,
 "nbformat_minor": 2
}
